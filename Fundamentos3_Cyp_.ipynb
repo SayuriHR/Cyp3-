{
  "nbformat": 4,
  "nbformat_minor": 0,
  "metadata": {
    "colab": {
      "name": "Fundamentos3_Cyp_.ipynb",
      "provenance": [],
      "authorship_tag": "ABX9TyOFknGHCA1myEvcMmwiVda5",
      "include_colab_link": true
    },
    "kernelspec": {
      "name": "python3",
      "display_name": "Python 3"
    },
    "language_info": {
      "name": "python"
    }
  },
  "cells": [
    {
      "cell_type": "markdown",
      "metadata": {
        "id": "view-in-github",
        "colab_type": "text"
      },
      "source": [
        "<a href=\"https://colab.research.google.com/github/SayuriHR/Cyp3-/blob/main/Fundamentos3_Cyp_.ipynb\" target=\"_parent\"><img src=\"https://colab.research.google.com/assets/colab-badge.svg\" alt=\"Open In Colab\"/></a>"
      ]
    },
    {
      "cell_type": "markdown",
      "metadata": {
        "id": "SSPfo2v1Mq2_"
      },
      "source": [
        "#23 de noviembre del 2021"
      ]
    },
    {
      "cell_type": "markdown",
      "metadata": {
        "id": "C95NS8xqFmim"
      },
      "source": [
        "Repeticion:\n",
        "\n",
        "Este tipo de estrutura nos permite automizar la ejecucion repetitiva de codigo mientras ciertas condiciones a cumplan, tenemos 3 variantes de esta estructura en todos los lenguajes de pogramacion:\n",
        "\n",
        "- Desde ... hasta ( estructura for )\n",
        "- haz mientras (structura While)\n",
        "- haz y luego validaz mientras (estructura Do-While)\n",
        "\n",
        "# FOR CON Python\n",
        "\n",
        "```\n",
        "for j in range(10)\n",
        "    print(f\"Hola {j}\")\n",
        "```\n",
        "\n",
        "# FOR CON LENGUAJE C Y/O Java \n",
        "```\n",
        "for( int j=0 ; j<10 ; j=j+1 ){\n",
        "    print(\"Hola %i \\n\" , j );\n",
        "}\n",
        "```\n",
        "\n",
        "En todos los lenguajes de programcion existe un tipo especial de for, conocido como **for-each**\n",
        "\n",
        "#FOR-aech en Python \n",
        "```\n",
        "for color in colores:\n",
        "    print(f\"Este es el color {color} \")\n",
        "```"
      ]
    },
    {
      "cell_type": "code",
      "metadata": {
        "colab": {
          "base_uri": "https://localhost:8080/"
        },
        "id": "5S1Ao_8WFxXr",
        "outputId": "e93abefd-a096-4443-ab54-755daa5cc094"
      },
      "source": [
        "# funcion Range()\n",
        "# range(<INICIO>,<STOP>,<INCREMENTO>) EL STOP SIEMPRE SE TIENE QUE PONER \n",
        "x =range(0,10,2)\n",
        "print(x)\n",
        "\n",
        "\n",
        "for j in range(10): #range (0,10) -->0,1,2,3,4,5,6,7,8,9\n",
        "    print(f\"Hola {j}\")\n",
        "print(\"-.-.-.-.-.-\")\n",
        "for j in range(0,10,2): #range (0,10,2) -->0,2,4,6,8\n",
        "    print(f\"Hola {j}\")\n",
        "\n",
        "frutas = [\"uva\", \"aguacate\", \"pera\", \"manzana\", \"sandia\"]\n",
        "print(frutas[0])\n",
        "print(frutas[1])\n",
        "print(frutas[2])\n",
        "print(frutas[3])\n",
        "print(frutas[4])\n",
        "\n",
        "print(\"-.-.-.-.-.-\")\n",
        "for index in range(5):\n",
        "    print(frutas[index])\n",
        "\n",
        "for j in range(5):\n",
        "     print(\"+++++\")\n"
      ],
      "execution_count": null,
      "outputs": [
        {
          "output_type": "stream",
          "name": "stdout",
          "text": [
            "range(0, 10, 2)\n",
            "Hola 0\n",
            "Hola 1\n",
            "Hola 2\n",
            "Hola 3\n",
            "Hola 4\n",
            "Hola 5\n",
            "Hola 6\n",
            "Hola 7\n",
            "Hola 8\n",
            "Hola 9\n",
            "-.-.-.-.-.-\n",
            "Hola 0\n",
            "Hola 2\n",
            "Hola 4\n",
            "Hola 6\n",
            "Hola 8\n",
            "uva\n",
            "aguacate\n",
            "pera\n",
            "manzana\n",
            "sandia\n",
            "-.-.-.-.-.-\n",
            "uva\n",
            "aguacate\n",
            "pera\n",
            "manzana\n",
            "sandia\n",
            "+++++\n",
            "+++++\n",
            "+++++\n",
            "+++++\n",
            "+++++\n"
          ]
        }
      ]
    },
    {
      "cell_type": "markdown",
      "metadata": {
        "id": "BwRIN7Ekeko5"
      },
      "source": [
        "# 25 de noviembre del 2021"
      ]
    },
    {
      "cell_type": "code",
      "metadata": {
        "colab": {
          "base_uri": "https://localhost:8080/"
        },
        "id": "QDUeZSZ1Ly4w",
        "outputId": "849e66d7-bc8e-4801-85b4-854f6743157a"
      },
      "source": [
        "for x in range (1, 20, 1): \n",
        "    print(x)\n",
        "print(\"fin del programa\")\n",
        "\n",
        "for x in range(19,0,-1):\n",
        "    print(x)\n",
        "print(\"fin del programa\")"
      ],
      "execution_count": null,
      "outputs": [
        {
          "output_type": "stream",
          "name": "stdout",
          "text": [
            "1\n",
            "2\n",
            "3\n",
            "4\n",
            "5\n",
            "6\n",
            "7\n",
            "8\n",
            "9\n",
            "10\n",
            "11\n",
            "12\n",
            "13\n",
            "14\n",
            "15\n",
            "16\n",
            "17\n",
            "18\n",
            "19\n",
            "fin del programa\n",
            "19\n",
            "18\n",
            "17\n",
            "16\n",
            "15\n",
            "14\n",
            "13\n",
            "12\n",
            "11\n",
            "10\n",
            "9\n",
            "8\n",
            "7\n",
            "6\n",
            "5\n",
            "4\n",
            "3\n",
            "2\n",
            "1\n",
            "fin del programa\n"
          ]
        }
      ]
    },
    {
      "cell_type": "code",
      "metadata": {
        "colab": {
          "base_uri": "https://localhost:8080/"
        },
        "id": "pN77PPDbNqIC",
        "outputId": "7ba2d3ad-9a84-498a-993f-6a85bf7665bd"
      },
      "source": [
        "# ejemplo 3.3\n",
        "CUECER = 0\n",
        "NUM = 0\n",
        "N = int(input(\"un valor numerico mayor que 1: \"))\n",
        "for I in range( 1, N+1 , 1):\n",
        "    N = int(input(\"un valor numerico:\"))\n",
        "    if N == 0:\n",
        "        CUECER += 1\n",
        "print(\"CUECER=\" ,CUECER)"
      ],
      "execution_count": null,
      "outputs": [
        {
          "output_type": "stream",
          "name": "stdout",
          "text": [
            "un valor numerico mayor que 1: 4\n",
            "un valor numerico mayor que 1:0\n",
            "un valor numerico mayor que 1:0\n",
            "un valor numerico mayor que 1:2\n",
            "un valor numerico mayor que 1:2\n",
            "CUECER= 2\n"
          ]
        }
      ]
    },
    {
      "cell_type": "markdown",
      "metadata": {
        "id": "8qsMG2TMQw8a"
      },
      "source": [
        "7 x 1 = 7\n",
        "\n",
        "7 x 2 = 14\n",
        "\n",
        "...\n",
        "\n",
        "7 x 10 = 70\n"
      ]
    },
    {
      "cell_type": "code",
      "metadata": {
        "colab": {
          "base_uri": "https://localhost:8080/"
        },
        "id": "6YdPGC5dQt9z",
        "outputId": "4807c5f2-6fbd-49e3-a42a-34ae3ae6e008"
      },
      "source": [
        "for j in range (1, 11):\n",
        "    print(f\"7 * {j}=\", 7*j)"
      ],
      "execution_count": null,
      "outputs": [
        {
          "output_type": "stream",
          "name": "stdout",
          "text": [
            "7 * 1= 7\n",
            "7 * 2= 14\n",
            "7 * 3= 21\n",
            "7 * 4= 28\n",
            "7 * 5= 35\n",
            "7 * 6= 42\n",
            "7 * 7= 49\n",
            "7 * 8= 56\n",
            "7 * 9= 63\n",
            "7 * 10= 70\n"
          ]
        }
      ]
    },
    {
      "cell_type": "markdown",
      "metadata": {
        "id": "hLt0rOLhR6bJ"
      },
      "source": [
        "¿Dame un numero entre 1 y 5? : 2\n",
        "\n",
        "¿Dame un numero entre 2 y 10? : 6\n",
        "\n",
        "\n"
      ]
    },
    {
      "cell_type": "code",
      "metadata": {
        "colab": {
          "base_uri": "https://localhost:8080/"
        },
        "id": "b75Wcg83SR8N",
        "outputId": "183678b0-d36e-4def-aea7-4d2865a68ba1"
      },
      "source": [
        "N1= int(input(\"Dame un numero entre 1 y 5:\"))\n",
        "if N1 >=1 and N1 <=5:\n",
        "    N2= int(input(\"Dame un valor entre 2 y 10:\"))\n",
        "    if N2 >= N1 and N2 <=10:\n",
        "\n",
        "        for j in range(N1, N2+1):\n",
        "             for i in range(1,11):\n",
        "                 print(f\"{j} x {i} =\", i* j)\n",
        "        print(\"---------\")\n",
        "else:\n",
        "        print(\"valor fuera de rango 1-5\")"
      ],
      "execution_count": null,
      "outputs": [
        {
          "output_type": "stream",
          "name": "stdout",
          "text": [
            "Dame un numero entre 1 y 5:4\n",
            "Dame un valor entre 2 y 10:6\n",
            "4 x 1 = 4\n",
            "4 x 2 = 8\n",
            "4 x 3 = 12\n",
            "4 x 4 = 16\n",
            "4 x 5 = 20\n",
            "4 x 6 = 24\n",
            "4 x 7 = 28\n",
            "4 x 8 = 32\n",
            "4 x 9 = 36\n",
            "4 x 10 = 40\n",
            "5 x 1 = 5\n",
            "5 x 2 = 10\n",
            "5 x 3 = 15\n",
            "5 x 4 = 20\n",
            "5 x 5 = 25\n",
            "5 x 6 = 30\n",
            "5 x 7 = 35\n",
            "5 x 8 = 40\n",
            "5 x 9 = 45\n",
            "5 x 10 = 50\n",
            "6 x 1 = 6\n",
            "6 x 2 = 12\n",
            "6 x 3 = 18\n",
            "6 x 4 = 24\n",
            "6 x 5 = 30\n",
            "6 x 6 = 36\n",
            "6 x 7 = 42\n",
            "6 x 8 = 48\n",
            "6 x 9 = 54\n",
            "6 x 10 = 60\n",
            "---------\n"
          ]
        }
      ]
    },
    {
      "cell_type": "code",
      "metadata": {
        "colab": {
          "base_uri": "https://localhost:8080/"
        },
        "id": "u9z9HS61WnJg",
        "outputId": "2ea35bd3-93d3-4129-abf7-81c11605c972"
      },
      "source": [
        "# generadores de listas \n",
        "#es una notacion especial de python que permite crear una lista de tamaño \n",
        "numeros =[0,0,0,0,0,0,0]\n",
        "print(numeros)\n",
        "numero = [ 0 for x in range(5) ]\n",
        "print(numeros )\n",
        "# emplenado la variable de control x para el valor inicial \n",
        "numero = [ x for x in range(5) ]\n",
        "print(numeros )\n",
        "#[10,20,30,40,50,60,70,80,90,100]\n",
        "numeros=[(x+1)*10 for x in range(10)]\n",
        "print(numeros)\n",
        "print(\"-,-,-,-,-\")\n",
        "numero = [ x for x in range(10,101,10) ]\n",
        "print(numeros )\n",
        "print(\"-,-,-,-,-\")\n",
        "numero = [ x*10 for x in range(1,11) ]\n",
        "print(numeros )"
      ],
      "execution_count": null,
      "outputs": [
        {
          "output_type": "stream",
          "name": "stdout",
          "text": [
            "[0, 0, 0, 0, 0, 0, 0]\n",
            "[0, 0, 0, 0, 0, 0, 0]\n",
            "[0, 0, 0, 0, 0, 0, 0]\n",
            "[10, 20, 30, 40, 50, 60, 70, 80, 90, 100]\n",
            "-,-,-,-,-\n",
            "[10, 20, 30, 40, 50, 60, 70, 80, 90, 100]\n",
            "-,-,-,-,-\n",
            "[10, 20, 30, 40, 50, 60, 70, 80, 90, 100]\n"
          ]
        }
      ]
    },
    {
      "cell_type": "code",
      "metadata": {
        "colab": {
          "base_uri": "https://localhost:8080/"
        },
        "id": "ZXt7O1bHZZcf",
        "outputId": "c068cd42-54a8-4b0c-8dae-592ff68fdaf5"
      },
      "source": [
        "# ejercicio:calcular promedio de edades \n",
        "suma=0\n",
        "edades=[0 for x in range(5)]\n",
        "for x in range(5):\n",
        "    edades[x]=int(input(\"Dame una edad: \")) # se va a utilizar mucho \n",
        "    suma=suma+edades[x]\n",
        "print(edades)\n",
        "print(\"promedio: \", suma/5)\n"
      ],
      "execution_count": null,
      "outputs": [
        {
          "output_type": "stream",
          "name": "stdout",
          "text": [
            "Dame una edad: 20\n",
            "Dame una edad: 21\n",
            "Dame una edad: 33\n",
            "Dame una edad: 25\n",
            "Dame una edad: 19\n",
            "[20, 21, 33, 25, 19]\n",
            "promedio:  23.6\n"
          ]
        }
      ]
    },
    {
      "cell_type": "code",
      "metadata": {
        "colab": {
          "base_uri": "https://localhost:8080/"
        },
        "id": "SWgdvehucSoT",
        "outputId": "e5e33713-4128-4194-9aca-d10b2015c408"
      },
      "source": [
        "import random \n",
        "print(random.random())\n",
        "print(random.uniform(5,11))\n",
        "val= round(random.uniform(5,11) , 2)\n",
        "print(val)\n",
        "\n",
        "valores = [round(random.uniform(5,11) , 2)for x in range(20)]\n",
        "print(valores)\n",
        "\n"
      ],
      "execution_count": null,
      "outputs": [
        {
          "output_type": "stream",
          "name": "stdout",
          "text": [
            "0.19718661434838392\n",
            "8.990301801632008\n",
            "9.05\n",
            "[10.22, 5.99, 5.82, 8.93, 8.1, 7.95, 7.43, 5.86, 5.46, 5.3, 5.48, 6.9, 9.5, 8.32, 10.29, 10.35, 6.12, 6.3, 6.5, 7.62]\n"
          ]
        }
      ]
    },
    {
      "cell_type": "markdown",
      "metadata": {
        "id": "-h-KPC_tFbIu"
      },
      "source": [
        "## 30 de Noviembre del 2021"
      ]
    },
    {
      "cell_type": "markdown",
      "metadata": {
        "id": "5-rCEj1z6HJl"
      },
      "source": [
        "## Estructura de control de repeticion Haz- mientras.\n",
        "\n",
        "Una estructura de control haz-mientras nos permite ejecutar repetidamente mientras una condicion se siga cumpliendo.\n",
        "```\n",
        "while <condición>\n",
        "    <Bloque de sentencias a ejecutar repetidamente>\n",
        "<siguiente sentencia psoterior a while>\n",
        "\n",
        "```\n",
        "La diferencia principal en compracion con la estructura for es que con WHILE no conoces el numero de ciclos a ejecutar en for si se conoce.\n",
        "\n",
        "Como ejemplo iniciemos con le siguiente enunciado.\n",
        "\n",
        "Hacer un programa que solicite un valor entero positivo y calcule repetidamente la mitad y se reasigne a la misma variable.El ciclo se debe detener cuando el resulatado sea menor que 1.\n",
        "mostrar en pantalla el resultado de cada calculo y al final el numero de interacciones que realizo.\n",
        "\n",
        "```\n",
        "Introduce un numero entero positivo 17\n",
        "8.5\n",
        "4.25\n",
        "2.12\n",
        "1.06\n",
        "0.53\n",
        "Total de interacciones= 5\n",
        "```"
      ]
    },
    {
      "cell_type": "code",
      "metadata": {
        "colab": {
          "base_uri": "https://localhost:8080/"
        },
        "id": "5AZKj2mW-FIn",
        "outputId": "39dab214-7b85-426c-b2d1-b6c72ca6d5e7"
      },
      "source": [
        "valor = int(input(\"Introduce un numero entero positivo:\"))\n",
        "contador = 0\n",
        "if valor > 0:\n",
        "    while valor > 1.0:\n",
        "        valor = valor /2\n",
        "        print(round(valor, 2))\n",
        "        contador += 1\n",
        "else:\n",
        "    print(\"El es negativo, intenta de nuevo\")\n",
        "print(\"Total de iteraciones\",contador)    "
      ],
      "execution_count": 7,
      "outputs": [
        {
          "output_type": "stream",
          "name": "stdout",
          "text": [
            "Introduce un numero entero positivo:7\n",
            "3.5\n",
            "1.75\n",
            "0.88\n",
            "Total de iteraciones 3\n"
          ]
        }
      ]
    },
    {
      "cell_type": "code",
      "metadata": {
        "colab": {
          "base_uri": "https://localhost:8080/"
        },
        "id": "hoibMKeL_iVA",
        "outputId": "10e40fc1-336a-4a26-bdf4-58c29cdbfaac"
      },
      "source": [
        "valor = int(input(\"Dame un valor entero:\"))\n",
        "\n",
        "while  valor != 0:\n",
        "    print(valor)\n",
        "    valor = int(input(\"Dame un valor entero:\"))\n",
        "print(\"Fin del programa\")"
      ],
      "execution_count": 8,
      "outputs": [
        {
          "output_type": "stream",
          "name": "stdout",
          "text": [
            "Dame un valor entero:0\n",
            "Fin del programa\n"
          ]
        }
      ]
    },
    {
      "cell_type": "code",
      "metadata": {
        "id": "QulH7Gp1Eb2q"
      },
      "source": [
        "valor = int(input(\"Dame un valor entero:\"))\n",
        "while valor != 0:\n",
        "    print(valor)\n",
        "    print(\"Otras cosas\")\n",
        "print(\"Fin del programa \")"
      ],
      "execution_count": null,
      "outputs": []
    },
    {
      "cell_type": "markdown",
      "metadata": {
        "id": "TFn5AurR_sw2"
      },
      "source": [
        "Escribe un programa que permita generar la tabla de multiplicar de un numero entero positivo N, comenzando desde 1.\n",
        "\n",
        "Si el usuario escribe un numero incorrecto, el programa no se ejecuta. En cambio se pregunta de nuevo por la info hasta que el dato ingresado sea el correcto. "
      ]
    },
    {
      "cell_type": "code",
      "metadata": {
        "colab": {
          "base_uri": "https://localhost:8080/"
        },
        "id": "TWXwrJN8_uXU",
        "outputId": "af6659bd-3e00-45bd-b555-60f50596fd13"
      },
      "source": [
        "n = int(input(\"Ingrese un numero entero positivo:\"))\n",
        "if n>0:\n",
        "    print(\"Es correcto\")\n",
        "    for i in range(1,11):\n",
        "        print( n, \"por\", i, \"es igual a:\",n*i)\n",
        "else:\n",
        "    print(\"El numero ingresado es incorrecto\")\n"
      ],
      "execution_count": 4,
      "outputs": [
        {
          "output_type": "stream",
          "name": "stdout",
          "text": [
            "Ingrese un numero entero positivo:3\n",
            "Es correcto\n",
            "3 por 1 es igual a: 3\n",
            "3 por 2 es igual a: 6\n",
            "3 por 3 es igual a: 9\n",
            "3 por 4 es igual a: 12\n",
            "3 por 5 es igual a: 15\n",
            "3 por 6 es igual a: 18\n",
            "3 por 7 es igual a: 21\n",
            "3 por 8 es igual a: 24\n",
            "3 por 9 es igual a: 27\n",
            "3 por 10 es igual a: 30\n"
          ]
        }
      ]
    },
    {
      "cell_type": "code",
      "metadata": {
        "colab": {
          "base_uri": "https://localhost:8080/"
        },
        "id": "W1dL4qVACIQK",
        "outputId": "900bbf06-e93c-4792-cc4c-b4db5530acbc"
      },
      "source": [
        "comprobar = True\n",
        "\n",
        "while comprobar == True:\n",
        "    \n",
        "  n = int(input(\"Ingrese un numero entero positivo:\"))\n",
        "  if n>0:\n",
        "    print(\"Es correcto\")\n",
        "    for i in range(1,11):\n",
        "        print( n, \"por\", i, \"es igual a:\",n*i)\n",
        "\n",
        "  comprobar = False\n",
        "\n",
        "else:\n",
        "    print(\"El numero ingresado es incorrecto\")"
      ],
      "execution_count": 14,
      "outputs": [
        {
          "output_type": "stream",
          "name": "stdout",
          "text": [
            "Ingrese un numero entero positivo:5\n",
            "Es correcto\n",
            "5 por 1 es igual a: 5\n",
            "5 por 2 es igual a: 10\n",
            "5 por 3 es igual a: 15\n",
            "5 por 4 es igual a: 20\n",
            "5 por 5 es igual a: 25\n",
            "5 por 6 es igual a: 30\n",
            "5 por 7 es igual a: 35\n",
            "5 por 8 es igual a: 40\n",
            "5 por 9 es igual a: 45\n",
            "5 por 10 es igual a: 50\n",
            "El numero ingresado es incorrecto\n"
          ]
        }
      ]
    },
    {
      "cell_type": "code",
      "metadata": {
        "colab": {
          "base_uri": "https://localhost:8080/"
        },
        "id": "AL4MiUY1HRB5",
        "outputId": "3f5b7ffd-d1fd-4a51-aa80-d8459977adca"
      },
      "source": [
        "comprobar = True\n",
        "\n",
        "while comprobar == True:\n",
        "    \n",
        "  n = int(input(\"Ingrese un numero entero positivo:\"))\n",
        "  if n>0:\n",
        "\n",
        "      i=1     #Se inicializa el valor 1\n",
        "\n",
        "      while i<11:\n",
        "        print( n, \"por\", i, \"es igual a:\",n*i)\n",
        "\n",
        "        i += 1 # i va ser igual la misma variable mas 1\n",
        "        comprobar = False\n",
        "  else:\n",
        "      print(\"El numero ingresado no es correcto. intente de nuevo\")"
      ],
      "execution_count": 21,
      "outputs": [
        {
          "output_type": "stream",
          "name": "stdout",
          "text": [
            "Ingrese un numero entero positivo:-4\n",
            "El numero ingresado no es correcto. intente de nuevo\n",
            "Ingrese un numero entero positivo:8\n",
            "8 por 1 es igual a: 8\n",
            "8 por 2 es igual a: 16\n",
            "8 por 3 es igual a: 24\n",
            "8 por 4 es igual a: 32\n",
            "8 por 5 es igual a: 40\n",
            "8 por 6 es igual a: 48\n",
            "8 por 7 es igual a: 56\n",
            "8 por 8 es igual a: 64\n",
            "8 por 9 es igual a: 72\n",
            "8 por 10 es igual a: 80\n"
          ]
        }
      ]
    },
    {
      "cell_type": "code",
      "metadata": {
        "colab": {
          "base_uri": "https://localhost:8080/"
        },
        "id": "vuBC47v5Kdba",
        "outputId": "4988e0f4-1bb4-4202-b0d3-75cf3686ab3b"
      },
      "source": [
        "n = int(input(\"INGRESE UN NUMERO ENTERO:\"))\n",
        "if n>0:\n",
        "    \n",
        "    resultado =0\n",
        "    for i in range(1, n+1):\n",
        "        resultado +=(1/i)\n",
        "        print(\"El resultado de la serie es:\",resultado)\n",
        "else:\n",
        "    print(\"El numero ingreado no es correcto ingrese otro\")"
      ],
      "execution_count": 23,
      "outputs": [
        {
          "output_type": "stream",
          "name": "stdout",
          "text": [
            "INGRESE UN NUMERO ENTERO:8\n",
            "El resultado de la serie es: 1.0\n",
            "El resultado de la serie es: 1.5\n",
            "El resultado de la serie es: 1.8333333333333333\n",
            "El resultado de la serie es: 2.083333333333333\n",
            "El resultado de la serie es: 2.283333333333333\n",
            "El resultado de la serie es: 2.4499999999999997\n",
            "El resultado de la serie es: 2.5928571428571425\n",
            "El resultado de la serie es: 2.7178571428571425\n"
          ]
        }
      ]
    },
    {
      "cell_type": "code",
      "metadata": {
        "colab": {
          "base_uri": "https://localhost:8080/"
        },
        "id": "CP4gmmttMbev",
        "outputId": "ace7eef9-c315-4770-a4b7-c967c995e502"
      },
      "source": [
        "#con While\n",
        "comprobar = True\n",
        "while comprobar == True:\n",
        "  n = int(input(\"INGRESE UN NUMERO ENTERO:\"))\n",
        "  if n>0:\n",
        "      comprobar = False \n",
        "    \n",
        "      resultado =0\n",
        "      for i in range(1, n+1):\n",
        "          resultado +=(1/i)\n",
        "      print(\"El resultado de la serie es:\",resultado)\n",
        "else:\n",
        "      print(\"El numero ingresado no es correcto ingrese otro\")"
      ],
      "execution_count": 29,
      "outputs": [
        {
          "output_type": "stream",
          "name": "stdout",
          "text": [
            "INGRESE UN NUMERO ENTERO:-2\n",
            "INGRESE UN NUMERO ENTERO:5\n",
            "El resultado de la serie es: 2.283333333333333\n",
            "El numero ingresado no es correcto ingrese otro\n"
          ]
        }
      ]
    }
  ]
}