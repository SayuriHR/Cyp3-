{
  "nbformat": 4,
  "nbformat_minor": 0,
  "metadata": {
    "colab": {
      "name": "Fundamentos3_Cyp_.ipynb",
      "provenance": []
    },
    "kernelspec": {
      "name": "python3",
      "display_name": "Python 3"
    },
    "language_info": {
      "name": "python"
    }
  },
  "cells": [
    {
      "cell_type": "markdown",
      "metadata": {
        "id": "SSPfo2v1Mq2_"
      },
      "source": [
        "#23 de noviembre del 2021"
      ]
    },
    {
      "cell_type": "markdown",
      "metadata": {
        "id": "C95NS8xqFmim"
      },
      "source": [
        "Repeticion:\n",
        "\n",
        "Este tipo de estrutura nos permite automizar la ejecucion repetitiva de codigo mientras ciertas condiciones a cumplan, tenemos 3 variantes de esta estructura en todos los lenguajes de pogramacion:\n",
        "\n",
        "- Desde ... hasta ( estructura for )\n",
        "- haz mientras (structura While)\n",
        "- haz y luego validaz mientras (estructura Do-While)\n",
        "\n",
        "# FOR CON Python\n",
        "\n",
        "```\n",
        "for j in range(10)\n",
        "    print(f\"Hola {j}\")\n",
        "```\n",
        "\n",
        "# FOR CON LENGUAJE C Y/O Java \n",
        "```\n",
        "for( int j=0 ; j<10 ; j=j+1 ){\n",
        "    print(\"Hola %i \\n\" , j );\n",
        "}\n",
        "```\n",
        "\n",
        "En todos los lenguajes de programcion existe un tipo especial de for, conocido como **for-each**\n",
        "\n",
        "#FOR-aech en Python \n",
        "```\n",
        "for color in colores:\n",
        "    print(f\"Este es el color {color} \")\n",
        "```"
      ]
    },
    {
      "cell_type": "code",
      "metadata": {
        "id": "5S1Ao_8WFxXr"
      },
      "source": [
        "# funcion Range()\n",
        "# range(<INICIO>,<STOP>,<INCREMENTO>) EL STOP SIEMPRE SE TIENE QUE PONER \n",
        "x =range(0,10,2)\n",
        "print(x)\n",
        "\n",
        "\n",
        "for j in range(10): #range (0,10) -->0,1,2,3,4,5,6,7,8,9\n",
        "    print(f\"Hola {j}\")\n",
        "print(\"-.-.-.-.-.-\")\n",
        "for j in range(0,10,2): #range (0,10,2) -->0,2,4,6,8\n",
        "    print(f\"Hola {j}\")\n",
        "\n",
        "frutas = [\"uva\", \"aguacate\", \"pera\", \"manzana\", \"sandia\"]\n",
        "print(frutas[0])\n",
        "print(frutas[1])\n",
        "print(frutas[2])\n",
        "print(frutas[3])\n",
        "print(frutas[4])\n",
        "\n",
        "print(\"-.-.-.-.-.-\")\n",
        "for index in range(5):\n",
        "    print(frutas[index])\n",
        "\n",
        "for j in range(5):\n",
        "     print(\"+++++\")\n"
      ],
      "execution_count": null,
      "outputs": []
    }
  ]
}